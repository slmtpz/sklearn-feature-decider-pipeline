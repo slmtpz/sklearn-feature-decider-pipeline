{
 "cells": [
  {
   "cell_type": "code",
   "execution_count": 17,
   "metadata": {},
   "outputs": [],
   "source": [
    "import numpy as np\n",
    "import pandas as pd\n",
    "from sklearn.base import BaseEstimator, TransformerMixin\n",
    "from sklearn.preprocessing import OneHotEncoder, StandardScaler\n",
    "from sklearn.pipeline import FeatureUnion, Pipeline\n",
    "from enum import Enum\n",
    "\n",
    "\n",
    "class Mode(Enum):\n",
    "    CATEGORICAL = 1\n",
    "    NUMERICAL = 2\n",
    "\n",
    "\n",
    "class FeatureSetDecider(BaseEstimator, TransformerMixin):\n",
    "    _supported_dtypes = {\n",
    "        Mode.CATEGORICAL: [np.object],\n",
    "        Mode.NUMERICAL: [np.int64]\n",
    "    }\n",
    "\n",
    "    def __init__(self, mode: Mode):\n",
    "        self.mode = mode\n",
    "\n",
    "    def fit(self, x: pd.DataFrame, y: pd.DataFrame = None):\n",
    "        return self\n",
    "\n",
    "    def transform(self, x: pd.DataFrame, y: pd.DataFrame = None):\n",
    "        return x.select_dtypes(self._supported_dtypes[self.mode])\n",
    "\n",
    "pipeline = FeatureUnion([\n",
    "    (\"categorical\", Pipeline([\n",
    "        (\"FeatureSetDecider\", FeatureSetDecider(Mode.CATEGORICAL)),\n",
    "        (\"OneHotEncoder\", OneHotEncoder(sparse=False)),\n",
    "    ])),\n",
    "    (\"numerical\", Pipeline([\n",
    "        (\"FeatureSetDecider\", FeatureSetDecider(Mode.NUMERICAL)),\n",
    "        (\"StandardScaler\", StandardScaler()),\n",
    "    ])),\n",
    "])\n",
    "\n",
    "X_train = pd.DataFrame({'A': ['a1', 'a3', 'a2'],\n",
    "                        'B': ['b2', 'b1', 'b3'],\n",
    "                        'C': [1, 2, 3]})\n",
    "X_tx = pipeline.fit_transform(X_train)\n"
   ]
  },
  {
   "cell_type": "code",
   "execution_count": 18,
   "metadata": {},
   "outputs": [
    {
     "data": {
      "text/plain": [
       "array([[ 1.        ,  0.        ,  0.        ,  0.        ,  1.        ,\n",
       "         0.        , -1.22474487],\n",
       "       [ 0.        ,  0.        ,  1.        ,  1.        ,  0.        ,\n",
       "         0.        ,  0.        ],\n",
       "       [ 0.        ,  1.        ,  0.        ,  0.        ,  0.        ,\n",
       "         1.        ,  1.22474487]])"
      ]
     },
     "execution_count": 18,
     "metadata": {},
     "output_type": "execute_result"
    }
   ],
   "source": [
    "X_tx"
   ]
  },
  {
   "cell_type": "code",
   "execution_count": null,
   "metadata": {},
   "outputs": [],
   "source": []
  }
 ],
 "metadata": {
  "kernelspec": {
   "display_name": "Python 3",
   "language": "python",
   "name": "python3"
  },
  "language_info": {
   "codemirror_mode": {
    "name": "ipython",
    "version": 3
   },
   "file_extension": ".py",
   "mimetype": "text/x-python",
   "name": "python",
   "nbconvert_exporter": "python",
   "pygments_lexer": "ipython3",
   "version": "3.7.6"
  }
 },
 "nbformat": 4,
 "nbformat_minor": 4
}
